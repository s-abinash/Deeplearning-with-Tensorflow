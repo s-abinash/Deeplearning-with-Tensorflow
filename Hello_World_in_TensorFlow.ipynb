{
  "nbformat": 4,
  "nbformat_minor": 0,
  "metadata": {
    "colab": {
      "name": "Hello World in TensorFlow.ipynb",
      "provenance": [],
      "authorship_tag": "ABX9TyNxQO//p/p8bAUPS0b+fVBI",
      "include_colab_link": true
    },
    "kernelspec": {
      "name": "python3",
      "display_name": "Python 3"
    },
    "accelerator": "TPU"
  },
  "cells": [
    {
      "cell_type": "markdown",
      "metadata": {
        "id": "view-in-github",
        "colab_type": "text"
      },
      "source": [
        "<a href=\"https://colab.research.google.com/github/s-abinash/Deeplearning-with-Tensorflow/blob/master/Hello_World_in_TensorFlow.ipynb\" target=\"_parent\"><img src=\"https://colab.research.google.com/assets/colab-badge.svg\" alt=\"Open In Colab\"/></a>"
      ]
    },
    {
      "cell_type": "markdown",
      "metadata": {
        "id": "6w2XVHq1_bu8",
        "colab_type": "text"
      },
      "source": [
        "# Problem Statement\n",
        "\n",
        "\n",
        "---\n",
        "\n",
        "\n",
        "A Simple Tensorflow model to predict the funciton series <br/>\n",
        "      x: -1.0, 0.0, 1.0, 2.0, 3.0, 4.0<br/>\n",
        "      y:  -3.0,-1.0, 1.0, 3.0, 5.0, 7.0<br/>\n",
        "\n",
        "      y=2x-1"
      ]
    },
    {
      "cell_type": "code",
      "metadata": {
        "id": "ETIOdA9r9pqo",
        "colab_type": "code",
        "colab": {}
      },
      "source": [
        "import tensorflow as tf\n",
        "from tensorflow import keras\n",
        "import numpy as np"
      ],
      "execution_count": 12,
      "outputs": []
    },
    {
      "cell_type": "code",
      "metadata": {
        "id": "-LFI3EQA_a3t",
        "colab_type": "code",
        "colab": {}
      },
      "source": [
        "model=tf.keras.Sequential([keras.layers.Dense(units=1, input_shape=[1])])\n",
        "model.compile(optimizer='sgd',loss='mean_squared_error')"
      ],
      "execution_count": 13,
      "outputs": []
    },
    {
      "cell_type": "code",
      "metadata": {
        "id": "SocvDz1gBxsq",
        "colab_type": "code",
        "colab": {}
      },
      "source": [
        "xs=np.array([-1.0, 0.0, 1.0, 2.0, 3.0, 4.0],dtype=float)\n",
        "ys=np.array([-3.0,-1.0, 1.0, 3.0, 5.0, 7.0],dtype=float)\n",
        "\n",
        "model.fit(xs,ys,epochs=500)"
      ],
      "execution_count": null,
      "outputs": []
    },
    {
      "cell_type": "code",
      "metadata": {
        "id": "_ZCG2wzNCbnX",
        "colab_type": "code",
        "colab": {
          "base_uri": "https://localhost:8080/",
          "height": 36
        },
        "outputId": "bc73f9de-f103-4302-9206-c04c98d0b7a9"
      },
      "source": [
        "print(round(model.predict([10.0])[0][0]))"
      ],
      "execution_count": 19,
      "outputs": [
        {
          "output_type": "stream",
          "text": [
            "19.0\n"
          ],
          "name": "stdout"
        }
      ]
    }
  ]
}